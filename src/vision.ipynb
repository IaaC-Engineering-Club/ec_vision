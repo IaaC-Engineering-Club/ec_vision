{
 "cells": [
  {
   "cell_type": "markdown",
   "id": "63314bdd",
   "metadata": {},
   "source": [
    "# Computer vision for boat self navigating capabilities"
   ]
  },
  {
   "cell_type": "markdown",
   "id": "b383ae3b",
   "metadata": {},
   "source": [
    "## imports"
   ]
  },
  {
   "cell_type": "code",
   "execution_count": 121,
   "id": "b2987566",
   "metadata": {},
   "outputs": [],
   "source": [
    "import cv2 as cv\n",
    "import numpy as np\n",
    "from PIL import Image\n",
    "import matplotlib.pyplot as plt"
   ]
  },
  {
   "cell_type": "markdown",
   "id": "d526afd9",
   "metadata": {},
   "source": [
    "## navigation class"
   ]
  },
  {
   "cell_type": "code",
   "execution_count": 122,
   "id": "8b458802",
   "metadata": {},
   "outputs": [],
   "source": [
    "class visionNav:\n",
    "    def __init__(self, video=None):\n",
    "        self.video = video\n",
    "        self.image = None\n",
    "        self.hsv_color = None\n",
    "        self.mask_r = None\n",
    "        self.mask_g = None\n",
    "\n",
    "    \n",
    "    def text_size(self, width ,direction):\n",
    "        font = cv.FONT_HERSHEY_SIMPLEX\n",
    "        scale = 1.8  # make it bigger\n",
    "        thickness = 4\n",
    "        text_size = cv.getTextSize(direction, font, scale, thickness)[0]\n",
    "        cv.putText(self.image, direction, ((width - text_size[0])//2, 50), font, scale, (0, 0, 0), thickness, cv.LINE_AA)\n",
    "\n",
    "    def generate_masks(self):\n",
    "        if self.image is not None:\n",
    "\n",
    "            image_bilateral = cv.bilateralFilter(self.image, 15, 350, 350)\n",
    "            self.hsv_color = cv.cvtColor(image_bilateral, cv.COLOR_BGR2HSV)\n",
    "\n",
    "            #green colorspace\n",
    "            lower_g= np.array([40, 50, 0])\n",
    "            upper_g = np.array([80, 255, 255])\n",
    "\n",
    "            #red colorspace\n",
    "            lower_r1 = np.array([0, 80, 0])\n",
    "            upper_r1 = np.array([10, 255, 255])\n",
    "\n",
    "            lower_r2 = np.array([170, 0, 20])\n",
    "            upper_r2 = np.array([180, 255, 255])\n",
    "\n",
    "            # green mask\n",
    "            self.mask_g = cv.inRange(self.hsv_color, lower_g, upper_g)\n",
    "            \n",
    "            # red mask\n",
    "            mask_r1 = cv.inRange(self.hsv_color, lower_r1, upper_r1)\n",
    "            mask_r2 = cv.inRange(self.hsv_color, lower_r2, upper_r2)\n",
    "            self.mask_r = mask_r1 | mask_r2\n",
    "        else:\n",
    "            print(\"No image loaded.\")\n",
    "\n",
    "    def detect(self, mask, min_area, color, description):\n",
    "        contours, _ = cv.findContours(mask, cv.RETR_EXTERNAL, cv.CHAIN_APPROX_SIMPLE)\n",
    "        for cnt in contours:\n",
    "            if cv.contourArea(cnt) > min_area:\n",
    "                x, y, w, h = cv.boundingRect(cnt)\n",
    "                position = x + w // 2\n",
    "                cv.rectangle(self.image, (x, y), (x + w, y + h), color, 2)\n",
    "                cv.putText(self.image, f\"{description} BUOY\", (x, y - 10), cv.FONT_HERSHEY_SIMPLEX, 0.5, color, 2)\n",
    "                return (True, position)\n",
    "        return False\n",
    "    \n",
    "    def detect_buoys(self, min_area = 1000):\n",
    "\n",
    "        green_detected, green_position = self.detect(self.mask_g, min_area, (0, 255, 0),\"GREEN\") if self.detect(self.mask_g, min_area, (0, 255, 0), \"GREEN\") else (False, None)\n",
    "        red_detected, red_position = self.detect(self.mask_r, min_area, (0, 0, 255),\"RED\") if self.detect(self.mask_r, min_area, (0, 0, 255), \"RED\") else (False, None)\n",
    "        \n",
    "        _, width, _ = self.image.shape\n",
    "\n",
    "        if green_detected and red_detected:\n",
    "            if green_position < width // 2 and red_position > width // 2:\n",
    "                self.text_size(width,\"Turn Around!\")\n",
    "            elif green_position > width // 2 and red_position < width // 2:\n",
    "                self.text_size(width,\"Keep course!\")\n",
    "        elif green_detected:\n",
    "            self.text_size(width,\"Turn Port!\")\n",
    "        elif red_detected:\n",
    "            self.text_size(width,\"Turn Starboard!\")\n",
    "        else:\n",
    "            self.text_size(width,\"Stop!\")\n",
    "        return None\n",
    "    \n",
    "    def run_on_video(self, output_path):\n",
    "        width = int(self.video.get(cv.CAP_PROP_FRAME_WIDTH))\n",
    "        height = int(self.video.get(cv.CAP_PROP_FRAME_HEIGHT))\n",
    "        fps = self.video.get(cv.CAP_PROP_FPS)\n",
    "\n",
    "        fourcc = cv.VideoWriter_fourcc(*'mp4v')\n",
    "        out = cv.VideoWriter(output_path, fourcc, fps, (width, height))\n",
    "\n",
    "        try:\n",
    "            while self.video.isOpened():\n",
    "                ret, frame = self.video.read()\n",
    "                if not ret:\n",
    "                    break\n",
    "                self.image = frame\n",
    "                self.generate_masks()\n",
    "                self.detect_buoys()\n",
    "                out.write(self.image)\n",
    "                cv.imshow(\"Processed Frame\", self.image)\n",
    "                if cv.waitKey(1) & 0xFF == ord('q'):\n",
    "                    break\n",
    "        \n",
    "        finally:\n",
    "            self.video.release()\n",
    "            out.release()\n",
    "            cv.destroyAllWindows()\n",
    "\n",
    "        return output_path"
   ]
  },
  {
   "cell_type": "markdown",
   "id": "1ede5313",
   "metadata": {},
   "source": [
    "## Files in readable format"
   ]
  },
  {
   "cell_type": "code",
   "execution_count": 123,
   "id": "bc7be5be",
   "metadata": {},
   "outputs": [],
   "source": [
    "# video\n",
    "red_green = cv.VideoCapture('/home/salvador_cb/3_term/engineering_club/data/Videos/Bouygs in the sea.mp4')\n",
    "green = cv.VideoCapture('/home/salvador_cb/3_term/engineering_club/data/Videos/video with only green bouyg.mp4')\n",
    "red = cv.VideoCapture('/home/salvador_cb/3_term/engineering_club/data/Videos/video with only red bouyg.mp4')\n",
    "empty = cv.VideoCapture('/home/salvador_cb/3_term/engineering_club/data/Videos/empty sea.mp4')\n",
    "\n",
    "output = \"/home/salvador_cb/3_term/engineering_club/data/Videos/output/output.mp4\""
   ]
  },
  {
   "cell_type": "markdown",
   "id": "46e579e5",
   "metadata": {},
   "source": [
    "## Main"
   ]
  },
  {
   "cell_type": "code",
   "execution_count": 124,
   "id": "d586ab10",
   "metadata": {},
   "outputs": [],
   "source": [
    "if __name__ == \"__main__\":\n",
    "    \n",
    "    nav = visionNav(video=red_green)\n",
    "    nav.run_on_video(output_path=output)\n"
   ]
  }
 ],
 "metadata": {
  "kernelspec": {
   "display_name": ".ec_vision",
   "language": "python",
   "name": "python3"
  },
  "language_info": {
   "codemirror_mode": {
    "name": "ipython",
    "version": 3
   },
   "file_extension": ".py",
   "mimetype": "text/x-python",
   "name": "python",
   "nbconvert_exporter": "python",
   "pygments_lexer": "ipython3",
   "version": "3.13.2"
  }
 },
 "nbformat": 4,
 "nbformat_minor": 5
}
